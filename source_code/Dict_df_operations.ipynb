{
 "cells": [
  {
   "cell_type": "code",
   "execution_count": 115,
   "metadata": {},
   "outputs": [],
   "source": [
    "import pickle\n",
    "import nltk\n",
    "import pandas as pd\n",
    "import numpy as np\n",
    "import tweepy\n",
    "import re\n",
    "import json\n",
    "from tweepy.models import Status\n",
    "import pandas as pd\n",
    "import string\n",
    "from nltk.corpus import stopwords"
   ]
  },
  {
   "cell_type": "code",
   "execution_count": 116,
   "metadata": {},
   "outputs": [],
   "source": [
    "nltk_stopwords = stopwords.words(\"english\")+[\"rt\", \"via\",\"-»\",\"--»\",\"--\",\"---\",\"-->\",\"<--\",\"->\",\"<-\",\"«--\",\"«\",\"«-\",\"»\",\"«»\"]"
   ]
  },
  {
   "cell_type": "code",
   "execution_count": 117,
   "metadata": {},
   "outputs": [],
   "source": [
    "def get_df(dict):\n",
    "    df = pd.DataFrame.from_dict(dict, orient='index')\n",
    "    return df"
   ]
  },
  {
   "cell_type": "code",
   "execution_count": 118,
   "metadata": {},
   "outputs": [],
   "source": [
    "def filtration(dataframe, column):\n",
    "    for handle in dataframe.index:\n",
    "        for index, tweet in enumerate(dataframe.loc[handle, :][column]):\n",
    "            tweet = tweet.lower()\n",
    "            clean = [x for x in tweet.split() if x not in string.punctuation]\n",
    "            clean = [x for x in clean if x not in nltk_stopwords]\n",
    "            clean = [x for x in clean if \"@\" not in x]\n",
    "            clean = [x for x in clean if \"…\" not in x]\n",
    "            clean = [x for x in clean if x[0] not in string.digits]\n",
    "            clean = [x for x in clean if x[0] not in string.punctuation]\n",
    "            clean = list(map(lambda x: x.replace(\"#\", \"\"), clean))\n",
    "            clean = list(map(lambda x: x.replace('\"', \"\"), clean))\n",
    "            clean = list(map(lambda x: x.replace(\".\",\"\"), clean))\n",
    "            clean = list(map(lambda x: x.replace(\"-&gt;\", \"\"), clean))\n",
    "            clean = list(map(lambda x: x.replace(\"&gt;\", \"greater than\"), clean))\n",
    "            clean = list(map(lambda x: x.replace(\"&lt;\", \"less than\"), clean))\n",
    "            clean = list(map(lambda x: x.replace(\":\", \"\"), clean))\n",
    "            clean = list(map(lambda x: x.replace(\"&amp;\", \"&\"), clean))\n",
    "            clean = list(map(lambda x: x.replace(\"/\", \"\"), clean))\n",
    "            clean = list(map(lambda x: x.replace(\"...\", \"\"), clean))\n",
    "            clean = list(map(lambda x: x.replace(\"(\", \"\"), clean))\n",
    "            clean = list(map(lambda x: x.replace(\")\", \"\"), clean))\n",
    "            clean = list(map(lambda x: x.replace(\"“\", '\"'), clean))\n",
    "            clean = list(map(lambda x: x.replace(\"”\", '\"'), clean))\n",
    "            clean = list(map(lambda x: x.replace(\"’\", \"\"), clean))\n",
    "            clean = list(map(lambda x: x.replace(\"-\",\" \"), clean))\n",
    "            clean = list(map(lambda x: x.replace(\"*\", \"\"), clean))\n",
    "            clean = list(map(lambda x: x.replace(\"!\", \"\"), clean))\n",
    "            clean = list(map(lambda x: x.replace(\"⬛️\", \"\"), clean))\n",
    "            clean = list(map(lambda x: x.replace(\"\\u200d\", \"\"), clean))\n",
    "            clean = list(map(lambda x: x.replace(\"\\U0001f986\", \"\"), clean))\n",
    "            clean = list(map(lambda x: x.replace(\"\\U0001f942\", \"\"), clean))\n",
    "            clean = list(map(lambda x: x.replace(\"\\U0001f92f\", \"\"), clean))\n",
    "            clean = list(map(lambda x: x.replace(\"\\U0001f911\", \"\"), clean))\n",
    "            clean = list(map(lambda x: x.replace(\"[\", \"\"), clean))\n",
    "            clean = list(map(lambda x: x.replace(\"]\", \"\"), clean))\n",
    "            clean = list(map(lambda x: x.replace(\"{\", \"\"), clean))\n",
    "            clean = list(map(lambda x: x.replace(\"}\", \"\"), clean))\n",
    "            clean = list(map(lambda x: x.replace(\"ô\", \"o\"), clean))\n",
    "            clean = list(map(lambda x: x.replace(\"ó\", \"o\"), clean))\n",
    "            clean = list(map(lambda x: x.replace(\"é\", \"e\"), clean))\n",
    "            clean = list(map(lambda x: x.replace(\"ï\",\"i\"), clean))\n",
    "            clean = list(map(lambda x: x.replace(\"®\", \"\"), clean))\n",
    "            clean = list(map(lambda x: x.replace(\"á\", \"a\"), clean))\n",
    "            clean = list(map(lambda x: x.replace(\"ã\", \"a\"), clean))\n",
    "            clean = list(map(lambda x: x.replace(\"ç\", \"c\"), clean))\n",
    "            clean = list(map(lambda x: x.replace(\"$\", \"\"), clean))\n",
    "            clean = list(map(lambda x: x.replace(\"'ve\", \"\"), clean))\n",
    "            clean = list(map(lambda x: x.replace(\"'ll\", \"\"), clean))\n",
    "            clean = list(map(lambda x: x.replace(\"n't\", \"\"), clean))\n",
    "            clean = list(map(lambda x: x.replace(\"'re\", \"\"), clean))\n",
    "            clean = list(map(lambda x: x.replace(\"l'\", \"\"), clean))\n",
    "            clean = list(map(lambda x: x.replace(\"?i\", \"\"), clean))\n",
    "            clean = \" \".join(clean)\n",
    "            dataframe.loc[handle, :][column][index] = clean\n",
    "    return dataframe"
   ]
  },
  {
   "cell_type": "code",
   "execution_count": 122,
   "metadata": {},
   "outputs": [],
   "source": [
    "def to_dict(dataframe):\n",
    "    for handle in dataframe.index:\n",
    "        temp_dict = dict()\n",
    "        temp_dict[handle] = pd.Series.to_dict(dataframe.loc[handle, :])\n",
    "    return temp_dict"
   ]
  }
 ],
 "metadata": {
  "kernelspec": {
   "display_name": "Python 3",
   "language": "python",
   "name": "python3"
  },
  "language_info": {
   "codemirror_mode": {
    "name": "ipython",
    "version": 3
   },
   "file_extension": ".py",
   "mimetype": "text/x-python",
   "name": "python",
   "nbconvert_exporter": "python",
   "pygments_lexer": "ipython3",
   "version": "3.6.7"
  }
 },
 "nbformat": 4,
 "nbformat_minor": 2
}
