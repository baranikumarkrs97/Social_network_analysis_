{
 "cells": [
  {
   "cell_type": "code",
   "execution_count": 36,
   "metadata": {},
   "outputs": [],
   "source": [
    "from elasticsearch import Elasticsearch\n",
    "from tweepy.models import Status, ResultSet\n",
    "import re\n",
    "import json"
   ]
  },
  {
   "cell_type": "code",
   "execution_count": 71,
   "metadata": {},
   "outputs": [
    {
     "name": "stdout",
     "output_type": "stream",
     "text": [
      "Got 854 Hits:\n"
     ]
    }
   ],
   "source": [
    "friends_tweets = dict()\n",
    "def extract_text(tweet):\n",
    "    regex = r\"http\\S+\"\n",
    "    subset = \"\"\n",
    "    emoji_pattern = re.compile(\"[\"\n",
    "         u\"\\U0001F600-\\U0001F64F\"  # emoticons\n",
    "         u\"\\U0001F300-\\U0001F5FF\"  # symbols & pictographs\n",
    "         u\"\\U0001F680-\\U0001F6FF\"  # transport & map symbols\n",
    "         u\"\\U0001F1E0-\\U0001F1FF\"  # flags (iOS)\n",
    "                            \"]+\", flags=re.UNICODE)\n",
    "    clean = re.sub(regex, subset, tweet)\n",
    "    clean = emoji_pattern.sub(subset, clean).strip()\n",
    "    return clean\n",
    "def extract_hashtags(tweet):\n",
    "    hashtags = []\n",
    "    for k,v in tweet.items():\n",
    "        if(k == 'hashtags' and v != None):\n",
    "            for i in v:\n",
    "                hashtags.append(i['text'])\n",
    "    return hashtags\n",
    "\n",
    "def extract_mentions(tweet):\n",
    "    mentions = []\n",
    "    for k,v in tweet.items():\n",
    "        if(k == 'user_mentions' and v != None):\n",
    "            for i in v:\n",
    "                mentions.append(i['screen_name'])\n",
    "    return mentions\n",
    "\n",
    "es = Elasticsearch()\n",
    "res = es.search(index=\"tweet\", body={\"query\": {\"match_all\": {}}})\n",
    "print(\"Got %d Hits:\" % res['hits']['total']['value'])\n",
    "for hit in res['hits']['hits']:\n",
    "    friends_tweets[hash(str(hit[\"_source\"][\"user\"]))] = {\"text\":[] , \"mentions\":[] , \"hashtags\" :[] }\n",
    "    text = extract_text(hit[\"_source\"][\"text\"])\n",
    "    hashtags = extract_hashtags((hit[\"_source\"][\"entities\"])) \n",
    "    mentions = extract_mentions((hit[\"_source\"][\"entities\"]))\n",
    "    friends_tweets[hash(str(hit[\"_source\"][\"user\"]))][\"text\"].append(text)\n",
    "    friends_tweets[hash(str(hit[\"_source\"][\"user\"]))][\"hashtags\"].append(hashtags)\n",
    "    friends_tweets[hash(str(hit[\"_source\"][\"user\"]))][\"mentions\"].append(mentions)"
   ]
  },
  {
   "cell_type": "code",
   "execution_count": 72,
   "metadata": {},
   "outputs": [],
   "source": [
    "with open('one_tweet.json', 'w') as f:\n",
    "    json.dump(friends_tweets, f)"
   ]
  }
 ],
 "metadata": {
  "kernelspec": {
   "display_name": "Python 3",
   "language": "python",
   "name": "python3"
  },
  "language_info": {
   "codemirror_mode": {
    "name": "ipython",
    "version": 3
   },
   "file_extension": ".py",
   "mimetype": "text/x-python",
   "name": "python",
   "nbconvert_exporter": "python",
   "pygments_lexer": "ipython3",
   "version": "3.6.7"
  }
 },
 "nbformat": 4,
 "nbformat_minor": 2
}
